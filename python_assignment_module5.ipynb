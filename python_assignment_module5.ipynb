{
 "cells": [
  {
   "cell_type": "code",
   "execution_count": null,
   "id": "18d3a446",
   "metadata": {},
   "outputs": [],
   "source": [
    "# Q.1 Why Django should be used for web-development?\n",
    "\n",
    "# 1. Built With Python So Easy to Learn\n",
    "# 2. Cross-Platform\n",
    "# 3. Open Source and Huge Community Support\n",
    "# 4. Batteries Included\n",
    "# 5. Security\n",
    "# 6. Built-in Admin UI\n",
    "# 7. ORM (Object-relational mapper)\n",
    "# 8. DRY (Don’t Repeat Yourself)\n",
    "# 9. Scalable and Reliable\n",
    "# 10. Good Documentation\n",
    "\n",
    "# Explain how you can create a project in Django?\n",
    "\n",
    "# Use the django-admin tool to generate a project folder, the basic file templates, and manage.py,\n",
    "# which serves as your project management script.\n",
    "# Use manage.py to create one or more applications.\n",
    "# Register the new applications to include them in the project.\n",
    "# Hook up the url/path mapper for each application.\n"
   ]
  },
  {
   "cell_type": "code",
   "execution_count": null,
   "id": "cfa8665c",
   "metadata": {},
   "outputs": [],
   "source": [
    "# Q.2 How to check installed version of django?\n",
    "# Simply type python -m django --version or type pip freeze to see all the versions of installed modules including Django."
   ]
  },
  {
   "cell_type": "code",
   "execution_count": null,
   "id": "f2c8f99e",
   "metadata": {},
   "outputs": [],
   "source": [
    "# Q.3 Explain what does django-admin.py make messages command is used for? \n",
    "# Runs over the entire source tree of the current directory and pulls out all strings marked for translation. \n",
    "# It creates (or updates) a message file in the conf/locale (in the Django tree) or locale (for project and application) directory"
   ]
  },
  {
   "cell_type": "code",
   "execution_count": null,
   "id": "4eeb3850",
   "metadata": {},
   "outputs": [],
   "source": [
    "# Q.4 What is Django URLs? make program to create django urls?\n",
    "# A URL is a web address. You can see a URL every time you visit a website – it is visible in your browser's address bar.\n",
    "# (Yes! 127.0.0.1:8000 is a URL! And https://djangogirls.org is also a URL.)\n",
    "# Django introduced the path method and re_path() method in version 2.0,\n",
    "# allowing for the inclusion of an element as a URL pattern within a tuple that can be used for URL patterns."
   ]
  },
  {
   "cell_type": "code",
   "execution_count": null,
   "id": "8dde7a0c",
   "metadata": {},
   "outputs": [],
   "source": [
    "# Q.5 What is a QuerySet? Write program to create a new Post object in database:\n",
    "# A QuerySet is a collection of data from a database.\n",
    "\n",
    "# A QuerySet is built up as a list of objects.\n",
    "\n",
    "# QuerySets makes it easier to get the data you actually need, by allowing you to filter and order the data at an early stage.\n",
    "\n",
    "from django.db import models\n",
    "\n",
    "# Create your models here.\n",
    "nano models.py\n",
    "from django.db import models\n",
    "from django.template.defaultfilters import slugify\n",
    "from django.contrib.auth.models import User\n",
    "from django.urls import reverse\n",
    "\n",
    "\n",
    "class Post(models.Model):\n",
    "    title = models.CharField(max_length=255)\n",
    "    slug = models.SlugField(unique=True, max_length=255)\n",
    "    content = models.TextField()\n",
    "    created_on = models.DateTimeField(auto_now_add=True)\n",
    "    author = models.TextField()"
   ]
  },
  {
   "cell_type": "code",
   "execution_count": null,
   "id": "f6091059",
   "metadata": {},
   "outputs": [],
   "source": [
    "# Q.6 Mention what command line can be used to load data into Django? \n",
    "# To load data into Django have to use the command line Django-admin.py loaddata. \n",
    "# The command line will searches the data and loads the contents of the named fixtures into the database."
   ]
  },
  {
   "cell_type": "code",
   "execution_count": 1,
   "id": "312fb3d7",
   "metadata": {},
   "outputs": [],
   "source": [
    "# Q.7 Explain what does django-admin.py make messages command is used for? \n",
    "\n",
    "# This command line executes over the entire source tree of the current directory and abstracts all the strings marked for translation. \n",
    "# It makes a message file in the locale directory."
   ]
  },
  {
   "cell_type": "code",
   "execution_count": null,
   "id": "c2d7968d",
   "metadata": {},
   "outputs": [],
   "source": [
    "# Q.8 Make Django application to demonstrate following things o\n",
    "# There will be 2 modules(Admin,Product manager) o Admin can add product name\n",
    "# (ex.Product id and product name) ex. (1, Samsung), (2, Apple)...etc. Data should store in "
   ]
  },
  {
   "cell_type": "code",
   "execution_count": null,
   "id": "3e46ff50",
   "metadata": {},
   "outputs": [],
   "source": []
  },
  {
   "cell_type": "code",
   "execution_count": null,
   "id": "03e8b465",
   "metadata": {},
   "outputs": [],
   "source": []
  },
  {
   "cell_type": "code",
   "execution_count": null,
   "id": "f9c7e48c",
   "metadata": {},
   "outputs": [],
   "source": []
  }
 ],
 "metadata": {
  "kernelspec": {
   "display_name": "Python 3 (ipykernel)",
   "language": "python",
   "name": "python3"
  },
  "language_info": {
   "codemirror_mode": {
    "name": "ipython",
    "version": 3
   },
   "file_extension": ".py",
   "mimetype": "text/x-python",
   "name": "python",
   "nbconvert_exporter": "python",
   "pygments_lexer": "ipython3",
   "version": "3.9.13"
  }
 },
 "nbformat": 4,
 "nbformat_minor": 5
}
