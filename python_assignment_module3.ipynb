{
 "cells": [
  {
   "cell_type": "code",
   "execution_count": null,
   "id": "baaed659",
   "metadata": {},
   "outputs": [],
   "source": [
    "#What is List? How will you reverse a list?\n",
    "# List is a type of collection datatype. \n",
    "# It is used to store multiple value in single variable.\n",
    "# Lists are mutable and ordered.\n",
    "#\n",
    "# Syntax: [8, 9.56, (5,4), {'a':'b'}, {8,9}, [36,75]]\n",
    "\n",
    "# To reverse alist we will use \"reverse\" method.\n",
    "l1=[8.5, 10, (6,9), {'p':'q'}, {5,3}, [58,75]]\n",
    "l1.reverse()\n",
    "print(l1)\n"
   ]
  },
  {
   "cell_type": "code",
   "execution_count": null,
   "id": "e0e2196d",
   "metadata": {},
   "outputs": [],
   "source": [
    "# [2] How will you remove last object from a list?\n",
    "list = [5,9,2,6,1]\n",
    "print(\"Original list: \" +str(list))\n",
    "\n",
    "ele= list.pop()\n",
    "\n",
    "# print the updated list\n",
    "print(\"Updated list: \" +str(list))"
   ]
  },
  {
   "cell_type": "code",
   "execution_count": null,
   "id": "5a8bb2a7",
   "metadata": {},
   "outputs": [],
   "source": [
    "# [3] Suppose list1 is [2, 33, 222, 14, and 25], what is list1[-1]?\n",
    "list1=[2, 33, 222, 14, 25]\n",
    "print(list1[-1])"
   ]
  },
  {
   "cell_type": "code",
   "execution_count": null,
   "id": "4514e5be",
   "metadata": {},
   "outputs": [],
   "source": [
    "# [4] Differentiatte between appen() and extend() methods?\n",
    "# Append: Adds the SINGLE ELEMENT at the end of the List.\n",
    "s1= [69,56,89,45]\n",
    "s1.append([56,57])\n",
    "print('append: ',s1)\n",
    "\n",
    "\n",
    "# Extend: Adds EACH ELEMENT at the end of thr List.\n",
    "s1= [69,56,89,45]\n",
    "s1.extend([56,57])\n",
    "print('extend: ',s1)"
   ]
  },
  {
   "cell_type": "code",
   "execution_count": null,
   "id": "9f2e9852",
   "metadata": {},
   "outputs": [],
   "source": [
    "# [5] Write a python function to get the largest number, smallest num and sum of all from a list.\n",
    "\n",
    "d=[]\n",
    "total=0\n",
    "n= int(input(\"Enter a number of elements: \"))\n",
    "for i in range(n):\n",
    "    d.append(int(input(\"Enter Elements: \")))\n",
    "d.sort()\n",
    "small=d[0]\n",
    "large=d[-1]\n",
    "for m in d:\n",
    "    total+=m\n",
    "print()\n",
    "print(d)\n",
    "print('\\nSmallest one : ',small)\n",
    "print('Largest one : ',large)\n",
    "print('Total Sum of both: ',total)"
   ]
  },
  {
   "cell_type": "code",
   "execution_count": null,
   "id": "0b7f598f",
   "metadata": {},
   "outputs": [],
   "source": [
    "# [6] How will you compare two List?\n",
    "l1 = [60, 70, 80, 90, 100]\n",
    "l2 = [40, 10, 20, 30, 50]\n",
    "\n",
    "p = set(l1)\n",
    "q = set(l2)\n",
    "\n",
    "if p == q:\n",
    "    print(\"Lists l1 and l2 are equal\")\n",
    "else:\n",
    "    print(\"Lists l1 and l2 are not equal\")"
   ]
  },
  {
   "cell_type": "code",
   "execution_count": null,
   "id": "8bac0299",
   "metadata": {},
   "outputs": [],
   "source": [
    "# [7] Write a Python program to count the number of strings\n",
    "#     where the string length is 2 or more and the first and last character are same from a given list of strings.\n",
    "\n",
    "n=input('Enter List: \\n')\n",
    "spl=n.split()\n",
    "p1=[]\n",
    "for i in spl:\n",
    "    if len(i)>1 and i[0]==i[-1]:\n",
    "        p1+=[i] \n",
    "print('total Words:',len(p1))\n",
    "print(p1)"
   ]
  },
  {
   "cell_type": "code",
   "execution_count": null,
   "id": "c49f6427",
   "metadata": {},
   "outputs": [],
   "source": [
    "# [8] Write a Python program to remove duplicates from a list.\n",
    "def Remove(duplicate):\n",
    "    final_list = []\n",
    "    for num in duplicate:\n",
    "        if num not in final_list:\n",
    "            final_list.append(num)\n",
    "    return final_list\n",
    "     \n",
    "duplicate = [2, 4, 50, 56, 5, 2, 60, 8]\n",
    "print(Remove(duplicate))"
   ]
  },
  {
   "cell_type": "code",
   "execution_count": null,
   "id": "67c810b5",
   "metadata": {},
   "outputs": [],
   "source": [
    "# [9] Write a Python program to check a list is empty or not.\n",
    "\n",
    "p1=[]\n",
    "if p1==[]:\n",
    "    print('List is empty.')\n",
    "else:\n",
    "    print('List is not empty.')"
   ]
  },
  {
   "cell_type": "code",
   "execution_count": null,
   "id": "18d1468c",
   "metadata": {},
   "outputs": [],
   "source": [
    "# [10] Write a Python function that takes two lists and returns true if they have at least one common member.\n",
    "\n",
    "l1=[]\n",
    "l2=[]\n",
    "n=int(input('Enter size of list: '))\n",
    "for i in range (n):\n",
    "    l1.append(int(input('list 1: ')))\n",
    "for j in range (n):\n",
    "    l2.append(int(input('list 2: ')))\n",
    "for p in l1:\n",
    "    for q in l2:\n",
    "        if p==q:\n",
    "            print('True')"
   ]
  },
  {
   "cell_type": "code",
   "execution_count": null,
   "id": "6dfced7d",
   "metadata": {},
   "outputs": [],
   "source": [
    "# [11] Write a Python program to generate and print a list of first and last 5 elements \n",
    "#      where the values are square of numbers between 1 and 30.\n",
    "\n",
    "l=[]\n",
    "for i in range(1,30):\n",
    "    l.append(i**2)\n",
    "print('Sq of 1st five: ',l[:5])\n",
    "print('Sq of last five:  ',l[-5:])"
   ]
  },
  {
   "cell_type": "code",
   "execution_count": null,
   "id": "6a53f936",
   "metadata": {},
   "outputs": [],
   "source": [
    "# [12] Write a Python function that takes a list and returns a new list with unique elements of the first list.\n",
    "def unique_list(l):\n",
    "  x = []\n",
    "  for a in l:\n",
    "    if a not in x:\n",
    "      x.append(a)\n",
    "  return x\n",
    "\n",
    "print(unique_list([1,2,2,2,3,3,4,5,5])) "
   ]
  },
  {
   "cell_type": "code",
   "execution_count": null,
   "id": "2fda78cb",
   "metadata": {},
   "outputs": [],
   "source": [
    "# [13] Write a Python program to convert a list of characters into a string.\n",
    "\n",
    "l1=input('Enter String: ')\n",
    "l2=l1.split(' ')\n",
    "n=''\n",
    "for i in l2:\n",
    "    n+=i\n",
    "print('List: ',l2)\n",
    "print('String: ',n)"
   ]
  },
  {
   "cell_type": "code",
   "execution_count": null,
   "id": "f632418d",
   "metadata": {},
   "outputs": [],
   "source": [
    "# [14] Write a Python program to select an item randomly from a list.\n",
    "\n",
    "l1=[]\n",
    "n=int(input(\"Enter the size of List: \"))\n",
    "for i in range(n):\n",
    "    l1.append(input('Enter List: '))\n",
    "s=set(l1)\n",
    "p=s.pop()\n",
    "print('\\nRandom Element: ',p)\n"
   ]
  },
  {
   "cell_type": "code",
   "execution_count": null,
   "id": "b28b7e32",
   "metadata": {},
   "outputs": [],
   "source": [
    "# [15] Write a Python program to find the second smallest number in a list.\n",
    "\n",
    "l1=[]\n",
    "n=int(input(\"Enter Size of List: \"))\n",
    "for i in range(n):\n",
    "    l1.append(int(input('Enter List: ')))\n",
    "l1.sort()\n",
    "print(l1)\n",
    "print('\\nSecond Smallest No is: ',l1[1])"
   ]
  },
  {
   "cell_type": "code",
   "execution_count": null,
   "id": "9c2e1c14",
   "metadata": {},
   "outputs": [],
   "source": [
    "# [16] Write a Python program to get unique values from a list.\n",
    "\n",
    "l1=[]\n",
    "n=int(input(\"Enter Size of List: \"))\n",
    "for i in range(n):\n",
    "    l1.append(int(input('Enter List: ')))\n",
    "print(l1)\n",
    "p1=set(l1)\n",
    "p2=list(p1)\n",
    "print('\\nUnique List: ',p2)"
   ]
  },
  {
   "cell_type": "code",
   "execution_count": null,
   "id": "f5f32ad7",
   "metadata": {},
   "outputs": [],
   "source": [
    "# [17] Write a Python program to check whether a list contains a sub list.\n",
    "\n",
    "test_list = [7, 4, 1, 8, 2, 2, 9, 3]\n",
    "print(\"The original list : \" + str(test_list))\n",
    "\n",
    "sublist = [4, 1, 8]\n",
    "\n",
    "res = False\n",
    "for idx in range(len(test_list) - len(sublist) + 1):\n",
    "    if test_list[idx: idx + len(sublist)] == sublist:\n",
    "        res = True\n",
    "        break\n",
    "\n",
    "print(\"Is sublist present in list ? : \" + str(res))"
   ]
  },
  {
   "cell_type": "code",
   "execution_count": null,
   "id": "b5d43a33",
   "metadata": {},
   "outputs": [],
   "source": [
    "# [18] Write a Python program to split a list into different variables.\n",
    "\n",
    "origin=[('PRAMILA', 'ACHARYA'), ('TOPS','TECHNOLOGY'), ('PYTHON','DJANGO')]\n",
    "p1,p2,p3= origin\n",
    "print(p1)\n",
    "print(p2)\n",
    "print(p3)"
   ]
  },
  {
   "cell_type": "code",
   "execution_count": null,
   "id": "20077116",
   "metadata": {},
   "outputs": [],
   "source": [
    "# [19] What is tuple? Difference between list and tuple.\n",
    "\n",
    "# Tuple is a type of collection datatype. \n",
    "# It is used to store multiple value in single variable.\n",
    "# Syntax:    variable_name = (element1, element2) \n",
    "\n",
    "#The primary difference between tuples and lists:\n",
    "# tuples are immutable as opposed to lists which are mutable. \n",
    "#Therefore, it is possible to change a list but not a tuple.\n",
    "\n",
    "#lists have several built-in methods.\n",
    "#tuple does not have many built-in methods.\n",
    "\n",
    "#Lists consume more memory.\n",
    "#Tuple consumes less memory as compared to the list.\n",
    "\n",
    "#The implication of iterations is Time-consuming.\n",
    "#The implication of iterations is comparatively Faster.\n"
   ]
  },
  {
   "cell_type": "code",
   "execution_count": null,
   "id": "7e8320ec",
   "metadata": {},
   "outputs": [],
   "source": [
    "# [20] Write a Python program to create a tuple with different data types.\n",
    "tuplex = (\"tuple\", False, 3.2, 1, ['PYCHARM',6.23],{'BTS': 'is ARMY'}, (6.66,5.56))\n",
    "print(tuplex)"
   ]
  },
  {
   "cell_type": "code",
   "execution_count": null,
   "id": "ea43829f",
   "metadata": {},
   "outputs": [],
   "source": [
    "# [21] Write a Python program to create a tuple with numbers\n",
    "\n",
    "t1=25,35,45,55,65\n",
    "print(t1)"
   ]
  },
  {
   "cell_type": "code",
   "execution_count": null,
   "id": "3bcf4463",
   "metadata": {},
   "outputs": [],
   "source": [
    "# [22] Write a Python program to convert a tuple to a string.\n",
    "\n",
    "\n",
    "t1=input('enter the name: ')\n",
    "g= tuple(t1)\n",
    "p= ''.join(g)\n",
    "print('Tuple: ',g)\n",
    "print('String: ',p)"
   ]
  },
  {
   "cell_type": "code",
   "execution_count": null,
   "id": "9f8c6fb9",
   "metadata": {},
   "outputs": [],
   "source": [
    "# [23] Write a Python program to check whether an element exists within a tuple.\n",
    "\n",
    "t = ('j', 'a', 'y', 'm', 'a', 'h', 'a', 'k', 'a', 'l',10)\n",
    "print('a' in t)\n",
    "print(9 in t)\n",
    "print('y' in t)\n",
    "print(3 in t)"
   ]
  },
  {
   "cell_type": "code",
   "execution_count": null,
   "id": "edb4a4ae",
   "metadata": {},
   "outputs": [],
   "source": [
    "# [24] Write a Python program to find the length of a tuple.\n",
    "\n",
    "t1=('BTSARMY', 5, 56, 89.2, 7.23, [8,3], {'p':2})\n",
    "print(len(t1))"
   ]
  },
  {
   "cell_type": "code",
   "execution_count": null,
   "id": "0570918d",
   "metadata": {},
   "outputs": [],
   "source": [
    "# [25] Write a Python program to convert a list to a tuple.\n",
    "\n",
    "l1=[8, 9, 56.7, 'BTS', (8,5), [56, 89], {'p':58}]\n",
    "print(tuple(l1))"
   ]
  },
  {
   "cell_type": "code",
   "execution_count": null,
   "id": "d0013db5",
   "metadata": {},
   "outputs": [],
   "source": [
    "# [26] Write a Python program to reverse a tuple.\n",
    "\n",
    "def Reverse(tuples):\n",
    "    new_tup = tuples[::-1]\n",
    "    return new_tup\n",
    "\n",
    "tuples = ('j','a','y','m','a','h','a','k','a','l')\n",
    "print(Reverse(tuples))"
   ]
  },
  {
   "cell_type": "code",
   "execution_count": null,
   "id": "e4ac3c12",
   "metadata": {},
   "outputs": [],
   "source": [
    "# [27] Write a Python program to replace last value of tuples in a list.\n",
    "l = [(20, 40, 60), (40, 60, 80), (70, 50, 90)]\n",
    "print([t[:-1] + (100,) for t in l])"
   ]
  },
  {
   "cell_type": "code",
   "execution_count": null,
   "id": "dc9e1bb3",
   "metadata": {},
   "outputs": [],
   "source": [
    "# [28] Write a Python program to find the repeated items of a tuple.\n",
    "\n",
    "tuplex = 2, 4, 5, 6, 2, 3, 4, 4, 7, 7, 8\n",
    "print(tuplex)\n",
    "#return the number of times it appears in the tuple.\n",
    "count = tuplex.count(4)\n",
    "print(count)"
   ]
  },
  {
   "cell_type": "code",
   "execution_count": null,
   "id": "2d326715",
   "metadata": {},
   "outputs": [],
   "source": [
    "#[29] Write a Python program to remove an empty tuple(s) from a list of tuples.\n",
    "\n",
    "\n",
    "t1=[(8,89,56), (),(65,5,85), (), (56,32,9)]\n",
    "for i in t1:\n",
    "    if i==():\n",
    "        t1.remove(i)\n",
    "print(t1)"
   ]
  },
  {
   "cell_type": "code",
   "execution_count": null,
   "id": "4af0b88d",
   "metadata": {},
   "outputs": [],
   "source": [
    "# [30] Write a Python program to unzip a list of tuples into individual lists.\n",
    "\n",
    "p = [(5,4), (1,6), (6,8)]\n",
    "print(list(zip(*p)))"
   ]
  },
  {
   "cell_type": "code",
   "execution_count": null,
   "id": "2205c837",
   "metadata": {},
   "outputs": [],
   "source": [
    "# [31] Write a Python program to convert a list of tuples into a dictionary.\n",
    "l = [('G', 20), ('U', 40), ('D', 60), ('D', 80), ('I', 100)]\n",
    "print(dict(l))"
   ]
  },
  {
   "cell_type": "code",
   "execution_count": null,
   "id": "3217e4ba",
   "metadata": {},
   "outputs": [],
   "source": [
    "# [33] Write a Python script to sort (ascending and descending) a dictionary by value.\n",
    "\n",
    "import operator\n",
    "d = {1: 2, 3: 4, 4: 3, 2: 1, 0: 0}\n",
    "print('Original dictionary : ',d)\n",
    "sorted_d = sorted(d.items(), key=operator.itemgetter(1))\n",
    "print('Dictionary in ascending order by value : ',sorted_d)\n",
    "sorted_d = dict( sorted(d.items(), key=operator.itemgetter(1),reverse=True))\n",
    "print('Dictionary in descending order by value : ',sorted_d)"
   ]
  },
  {
   "cell_type": "code",
   "execution_count": null,
   "id": "7399ba5e",
   "metadata": {},
   "outputs": [],
   "source": [
    "# [34] Write a Python script to concatenate following dictionaries to create a new one.\n",
    "\n",
    "l1={'x': 20, 'p': 40}\n",
    "l2={'y': 20, 'q': 40}\n",
    "l3={'z': 20, 'r': 40}\n",
    "l2.update(l3)\n",
    "l1.update(l2)\n",
    "print(l1) "
   ]
  },
  {
   "cell_type": "code",
   "execution_count": null,
   "id": "d3b6ae60",
   "metadata": {},
   "outputs": [],
   "source": [
    "# [35] Write a Python script to check if a given key already exists in a dictionary.\n",
    "\n",
    "l1= {'S': 10, 'R': 20, 'A': 30, 'D': 40, 'D': 50, 'H': 60, 'A':70}\n",
    "P=input('Enter any Key: ')\n",
    "if P in l1:\n",
    "    print('Key exist.')\n",
    "else:\n",
    "    print('Key does not exist.')"
   ]
  },
  {
   "cell_type": "code",
   "execution_count": null,
   "id": "29db62df",
   "metadata": {},
   "outputs": [],
   "source": [
    "# [36] How Do You Traverse Through A Dictionary Object In Python?\n",
    "\n",
    "l1= {'G': 80, 'U': 70, 'D': 60, 'D': 50, 'I': 40, 'E': 30}\n",
    "l2=list(l1.items())\n",
    "l3=list(l1.keys())\n",
    "l4=list(l1.values())\n",
    "\n",
    "print('Pairs of dictionary: ',l2)\n",
    "\n",
    "print('Keys in dictionary: ',l3)\n",
    "\n",
    "print('Values in dictionary: ',l4)\n"
   ]
  },
  {
   "cell_type": "code",
   "execution_count": null,
   "id": "ca9a255f",
   "metadata": {},
   "outputs": [],
   "source": [
    "# [37] How Do You Check The Presence Of A Key In A Dictionary?\n",
    "def checkKey(dic, key):\n",
    "     \n",
    "    if key in dic:\n",
    "        print(\"Present, \", end =\" \")\n",
    "        print(\"value =\", dic[key])\n",
    "    else:\n",
    "        print(\"Not present\")\n",
    " \n",
    "dic = {'a': 100, 'b':200, 'c':300}\n",
    "key = 'b'\n",
    "checkKey(dic, key)\n",
    " \n",
    "key = 'w'\n",
    "checkKey(dic, key)"
   ]
  },
  {
   "cell_type": "code",
   "execution_count": null,
   "id": "0107ba8e",
   "metadata": {},
   "outputs": [],
   "source": [
    "# [38] Write a Python script to print a dictionary where the keys are numbers between 1 and 15.\n",
    "l=int(input(\"Enter the Limit : \"))\n",
    "d = dict()\n",
    "for x in range(1,l+1):\n",
    "    d[x]=x**2\n",
    "print(d)"
   ]
  },
  {
   "cell_type": "code",
   "execution_count": null,
   "id": "3b4780e8",
   "metadata": {},
   "outputs": [],
   "source": [
    "# [39] Write a Python program to check multiple keys exists in a dictionary.\n",
    "student = {\n",
    "  'name': 'Pramila',\n",
    "  'age': 21,\n",
    "  'city': 'Seoul'\n",
    "}\n",
    "print(student.keys() >= {'age', 'name'})\n",
    "print(student.keys() >= {'City', 'Pramila'})\n",
    "print(student.keys() >= {'city', 'Seoul'})"
   ]
  },
  {
   "cell_type": "code",
   "execution_count": null,
   "id": "6e1a2e9f",
   "metadata": {},
   "outputs": [],
   "source": [
    "# [40] Write a Python script to merge two Python dictionaries.\n",
    "p1={\"Name\":\"Jyoti\" , \"Age\":21}\n",
    "p2={\"City\": \"Seoul\", \"Gender\": \"Female\"}\n",
    "res = p1.copy()\n",
    "res.update(p2)\n",
    "print(res)"
   ]
  },
  {
   "cell_type": "code",
   "execution_count": null,
   "id": "59b67181",
   "metadata": {},
   "outputs": [],
   "source": [
    "# [41] Write a Python program to map two lists into a dictionary.\n",
    "d =  {'J1': [67,90,73,36], 'J2': [89,67,84], 'J3': [82,57]}\n",
    "tot = sum(map(len, d.values()))\n",
    "print(\"Number of Items in a Dictionary :\",tot)"
   ]
  },
  {
   "cell_type": "code",
   "execution_count": null,
   "id": "f24eb653",
   "metadata": {},
   "outputs": [],
   "source": [
    "# [42] Write a Python program to combine two dictionary adding values for common keys.\n",
    "#  o d1 = {'a': 100, 'b': 200, 'c':300}\n",
    "#  o d2 = {'a': 300, 'b': 200,’d’:400}\n",
    "#  Sample output: Counter ({'a': 400, 'b': 400,’d’: 400, 'c': 300}).\n",
    "\n",
    "d1 = {'a': 100, 'b': 200, 'c':300}\n",
    "d2 = {'a': 300, 'b': 200, 'd':400}\n",
    "for i in d1:\n",
    "    if i in d2:\n",
    "        d2[i]+=d1[i]\n",
    "for j in d1:\n",
    "    if j not in d2:\n",
    "        a=d1.get(i)\n",
    "        d2.setdefault(i, a)\n",
    "print(d2)"
   ]
  },
  {
   "cell_type": "code",
   "execution_count": null,
   "id": "0d35f63d",
   "metadata": {},
   "outputs": [],
   "source": [
    "# [43] Write a Python program to print all unique values in a dictionary.\n",
    "\n",
    "p1= {'g': 40, 's': 50, 'j': 90, 'p': 80, 'r': 70, 'z': 60}\n",
    "g=set(p1.values())\n",
    "print(g)"
   ]
  },
  {
   "cell_type": "code",
   "execution_count": null,
   "id": "88d1a098",
   "metadata": {},
   "outputs": [],
   "source": [
    "# [44] Why Do You Use the Zip () Method in Python?\n",
    "\n",
    "# Zip function returns an aggregate elements from two or more than two iterables.\n",
    "# It returns pairs in tuple. so can be easily used to create dictionary."
   ]
  },
  {
   "cell_type": "code",
   "execution_count": null,
   "id": "86770894",
   "metadata": {},
   "outputs": [],
   "source": [
    "# [45] Write a Python program to create and display all combinations of letters,\n",
    "#      selecting each letter from a different key in a dictionary.\n",
    "# o    Sample data: {'1': ['a','b'], '2': ['c','d']}\n",
    "# Expected Output:    ac ad bc bd\n",
    "\n",
    "x= {'1':['a', 'b'], '2':['c', 'd']}\n",
    "y= list(x.values())\n",
    "print(y)\n",
    "for i in y[0]:\n",
    "    for j in y[1]:\n",
    "        print(i,j, sep='')"
   ]
  },
  {
   "cell_type": "code",
   "execution_count": null,
   "id": "d2dcb338",
   "metadata": {},
   "outputs": [],
   "source": [
    "# [46] Write a Python program to find the highest 3 values in a dictionary.\n",
    "\n",
    "g1= {'g': 10, 'h': 20, 'i': 10, 'j': 40, 'k': 50, 'l': 20}\n",
    "p=list(g1.values())\n",
    "k=sorted(p,reverse=True)\n",
    "print(k[:3])"
   ]
  },
  {
   "cell_type": "code",
   "execution_count": null,
   "id": "7402845f",
   "metadata": {},
   "outputs": [],
   "source": [
    "# [47] Write a Python program to combine values in python list of dictionaries.\n",
    "# Sample data: [{'item' : 'item1' , 'amount' : 400}, \n",
    "#               {'item' : 'item2' , 'amount' : 300}, \n",
    "#               {'item' : 'item1' , 'amount' : 750}]\n",
    "# o Expected Output: Counter ({'item1': 1150, 'item2': 300})\n",
    "\n",
    "k = {}\n",
    "l2 = []\n",
    "\n",
    "l1= [{'item' : 'item1' , 'amount' : 400}, {'item' : 'item2' , 'amount' : 300}, {'item' : 'item1' , 'amount' : 750}]\n",
    "for i in l1:\n",
    "    l2.append(tuple(i.values()))\n",
    "#  ===> l2= [('item1', 400), ('item2', 300), ('item1', 750)]\n",
    "\n",
    "for j in l2:\n",
    "    if j[0] not in k:\n",
    "        k[j[0]] = j[1]\n",
    "    else:\n",
    "        k[j[0]] += j[1]\n",
    "print(k)"
   ]
  },
  {
   "cell_type": "code",
   "execution_count": null,
   "id": "9ed8e8e4",
   "metadata": {},
   "outputs": [],
   "source": [
    "# [48] Write a Python program to create a dictionary from a string.\n",
    "#  o Note: Track the count of the letters from the string. Sample string: 'w3resource'\n",
    "#  o Expected output: {'a': 1,’a’: 1, 'i': 2, 'l': 1, 'm': 1, 'r': 1, 'a': 2, 'p': 1}\n",
    "\n",
    "a={}\n",
    "s1='pramilaa'\n",
    "for i in s1:\n",
    "    if i not in a:\n",
    "        a[i]=1\n",
    "    else:\n",
    "        a[i]+=1\n",
    "print(a)"
   ]
  },
  {
   "cell_type": "code",
   "execution_count": null,
   "id": "b50e9006",
   "metadata": {},
   "outputs": [],
   "source": [
    "# [49] Write a Python function to calculate the factorial of a number (a non-negative integer).\n",
    "\n",
    "# Method - 1\n",
    "def fact(n):\n",
    "    if n==0:\n",
    "        return 1\n",
    "    else:\n",
    "        return n*fact(n-1)\n",
    "n=int(input('Enter number to get factorial: '))\n",
    "s=fact(n)\n",
    "print(s)"
   ]
  },
  {
   "cell_type": "code",
   "execution_count": null,
   "id": "19913b86",
   "metadata": {},
   "outputs": [],
   "source": [
    "# [50] Write a Python function to check whether a number is in a given range.\n",
    "\n",
    "p1=int(input('Enter range g: '))\n",
    "p2=int(input('Enter range r: '))\n",
    "print(f'Range: {p1} - {p2}')\n",
    "n=int(input('\\nEnter the number:'))\n",
    "if n in range(p1,p2):\n",
    "    print(f'Given number {n} is in range.')\n",
    "else:\n",
    "    print(f'Given number {n} is not in range.')"
   ]
  },
  {
   "cell_type": "code",
   "execution_count": null,
   "id": "d1e7688f",
   "metadata": {},
   "outputs": [],
   "source": [
    "# [51] Write a Python function to check whether a number is perfect or not.\n",
    "\n",
    "n=int(input('Enter number: '))\n",
    "k=0\n",
    "for i in range(1,n):\n",
    "    if n%i==0 :\n",
    "        k=k+i\n",
    "if k==n:\n",
    "    print('True')\n",
    "else:\n",
    "    print('False')"
   ]
  },
  {
   "cell_type": "code",
   "execution_count": null,
   "id": "416fff6c",
   "metadata": {},
   "outputs": [],
   "source": [
    "# [52]  Write a Python function that checks whether a passed string is palindrome or not.\n",
    "\n",
    "s=input('Enter anything: ')\n",
    "k=''\n",
    "for i in s:\n",
    "    k=i+k\n",
    "if s==k:\n",
    "    print(f'==> \"{k}\" is Palindrome.')\n",
    "else:\n",
    "    print(f'==> \"{k}\" is not Palindrome.')"
   ]
  },
  {
   "cell_type": "code",
   "execution_count": null,
   "id": "8c2e01b8",
   "metadata": {},
   "outputs": [],
   "source": [
    "# [53] How do you perform pattern matching in Python? Explain.\n",
    "\n",
    "# There are five different functions provided in re module to perform pattern matching. They are as listed below.\n",
    "\n",
    "# Using re.search() Function\n",
    "# Using re.match() Function\n",
    "# Using re.fullmatch() Function\n",
    "# Using re.findall() Function\n",
    "# Using re.finditer() Function"
   ]
  },
  {
   "cell_type": "code",
   "execution_count": null,
   "id": "3b4a91c8",
   "metadata": {},
   "outputs": [],
   "source": [
    "# [54] What is lambda function in python? What we call a function which is incomplete version of a function?\n",
    "\n",
    "# Lambda function is also called as Anonymous function or One-Liner function.\n",
    "# Normal functions are defined using \"def\" keyword,\n",
    "# while lambda/ Anonymous functions can be defined without a name means just by using \"lambda\" keyword."
   ]
  },
  {
   "cell_type": "code",
   "execution_count": null,
   "id": "fe696d32",
   "metadata": {},
   "outputs": [],
   "source": [
    "# [55] How Many Basic Types Of Functions Are Available In Python?\n",
    "\n",
    "# Mainly there are three types of functions.\n",
    "\n",
    "# [1] User Defined functions:  \n",
    "# [2] Built In functions: \n",
    "# [3] Anonymous/ Lambda/ One-Liner functions:"
   ]
  },
  {
   "cell_type": "code",
   "execution_count": null,
   "id": "ade8eb5a",
   "metadata": {},
   "outputs": [],
   "source": [
    "# [56] How can you pick a random item from a list or tuple?\n",
    "\n",
    "# Type Cast List of tuples in set & apply pop method.\n",
    "# It will return any random element from list of tuples.\n",
    "\n",
    "l1=[(8,6), (23,2), (69,6), (37,9), (13,89), (62,11)]\n",
    "l2=set(l1)\n",
    "l3=l2.pop()\n",
    "print(l3)"
   ]
  },
  {
   "cell_type": "code",
   "execution_count": 2,
   "id": "3060fdd3",
   "metadata": {},
   "outputs": [
    {
     "name": "stdout",
     "output_type": "stream",
     "text": [
      "Random item:  64\n"
     ]
    }
   ],
   "source": [
    "# [57] How can you pick a random item from a range?\n",
    "\n",
    "# Take empty list and append all elements of range in empty list.\n",
    "# Type cast list into set and use pop method to get any random element.\n",
    "\n",
    "s=[]\n",
    "for i in range (60, 70):\n",
    "    s.append(i)\n",
    "k=set(s)\n",
    "ans=k.pop()\n",
    "print('Random item: ',ans)"
   ]
  },
  {
   "cell_type": "code",
   "execution_count": 3,
   "id": "46dc30b0",
   "metadata": {},
   "outputs": [
    {
     "data": {
      "text/plain": [
       "35"
      ]
     },
     "execution_count": 3,
     "metadata": {},
     "output_type": "execute_result"
    }
   ],
   "source": [
    "# [58] How can you get a random number in python?\n",
    "\n",
    "# Use set method.\n",
    "\n",
    "s1={4,5,8,9,15,42,78,35,62}\n",
    "s1.pop()"
   ]
  },
  {
   "cell_type": "code",
   "execution_count": 4,
   "id": "44535af1",
   "metadata": {},
   "outputs": [
    {
     "name": "stdout",
     "output_type": "stream",
     "text": [
      "Enter number: 45\n",
      "[45, 45, 89, 52, 63, 42, 73, 95, 41, 61, 54]\n"
     ]
    }
   ],
   "source": [
    "# [59] How will you set the starting value in generating random numbers?\n",
    "\n",
    "# We can set the starting value in list datatype only.\n",
    "# Use insert method and add value/ element at index value 0.\n",
    "# Now to get random number type cast list into set and apply pop mehod.\n",
    "\n",
    "s1=[10,89,62,63,62,45,75,21,91,59]\n",
    "n=int(input('Enter number: '))\n",
    "s1.insert(0, n)\n",
    "print(s1)"
   ]
  },
  {
   "cell_type": "code",
   "execution_count": 5,
   "id": "dbceb504",
   "metadata": {},
   "outputs": [
    {
     "name": "stdout",
     "output_type": "stream",
     "text": [
      "[36, 37, 69, 12, 45, 48, 85, 54, 24, 25, 63]\n"
     ]
    }
   ],
   "source": [
    "# [60] How will you randomizes the items of a list in place?\n",
    "\n",
    "# Use set method, because of it's \"unordered\" property.\n",
    "\n",
    "l1=[63, 54, 45, 25, 36, 24, 37, 85, 48, 69, 12]\n",
    "l2=set(l1)\n",
    "print(list(l2))"
   ]
  },
  {
   "cell_type": "code",
   "execution_count": 6,
   "id": "a4471eaa",
   "metadata": {},
   "outputs": [],
   "source": [
    "# [61] Write a Python program to read a random line from a file.\n",
    "\n",
    "# In order to pull a random word or string from a text file, \n",
    "# we will first open the file in read mode \n",
    "# and then use the methods in Python’s \"random\" module to pick a random word. "
   ]
  },
  {
   "cell_type": "code",
   "execution_count": 9,
   "id": "e652237c",
   "metadata": {},
   "outputs": [
    {
     "name": "stdout",
     "output_type": "stream",
     "text": [
      "Enter Degrees: 200\n",
      "Radians:  3.488888888888889\n"
     ]
    }
   ],
   "source": [
    "# [62] Write a Python program to convert degree to radian.\n",
    "\n",
    "pi=3.14\n",
    "deg=float(input('Enter Degrees: '))\n",
    "rad= deg*pi/180\n",
    "print('Radians: ',rad)"
   ]
  },
  {
   "cell_type": "code",
   "execution_count": 10,
   "id": "12f47a04",
   "metadata": {},
   "outputs": [
    {
     "name": "stdout",
     "output_type": "stream",
     "text": [
      "Bottom base value a: 5\n",
      "Upper base value b: 10\n",
      "Height of Trapezoid: 15\n",
      "\n",
      "Area of Trapezoid:  112.5\n"
     ]
    }
   ],
   "source": [
    "# [63] Write a Python program to calculate the area of a trapezoid.\n",
    "\n",
    "bottom_base=int(input('Bottom base value a: '))\n",
    "upper_base=int(input('Upper base value b: '))\n",
    "height=int(input('Height of Trapezoid: '))\n",
    "area=((bottom_base + upper_base)/2)*height\n",
    "print('\\nArea of Trapezoid: ',area)"
   ]
  },
  {
   "cell_type": "code",
   "execution_count": 11,
   "id": "4c0de798",
   "metadata": {},
   "outputs": [
    {
     "name": "stdout",
     "output_type": "stream",
     "text": [
      "Base value: 50\n",
      "Height value: 12\n",
      "\n",
      "Area of Parallelogram:  600\n"
     ]
    }
   ],
   "source": [
    "# [64] Write a Python program to calculate the area of a parallelogram.\n",
    "\n",
    "base=int(input('Base value: '))\n",
    "height=int(input('Height value: '))\n",
    "area=base*height\n",
    "print('\\nArea of Parallelogram: ',area)"
   ]
  },
  {
   "cell_type": "code",
   "execution_count": null,
   "id": "671d4930",
   "metadata": {},
   "outputs": [],
   "source": [
    "# [65] Write a Python program to calculate surface volume and area of a cylinder.\n",
    "\n",
    "pi= 3.14\n",
    "radius= int(input('Radius value: '))\n",
    "height= int(input('Height value: '))\n",
    "volume= pi*(radius**2)*height\n",
    "area=(2*pi*radius*height)+(2*pi*(radius**2))\n",
    "print('\\nVolume of Cylinder: ',volume)\n",
    "print('Area of Cylinder: ',area)"
   ]
  },
  {
   "cell_type": "code",
   "execution_count": null,
   "id": "c766f358",
   "metadata": {},
   "outputs": [],
   "source": [
    "# [66] Write a Python program to returns sum of all divisors of a number.\n",
    "\n",
    "a=[]\n",
    "sum=0\n",
    "n=int(input('Enter any number: '))\n",
    "for i in range(1, n):\n",
    "    if n%i==0:\n",
    "        a.append(i)\n",
    "        sum+=i\n",
    "print('Divisors: ',a)\n",
    "print('Sum of Divisors: ',sum)"
   ]
  },
  {
   "cell_type": "code",
   "execution_count": 13,
   "id": "f1e83404",
   "metadata": {},
   "outputs": [
    {
     "name": "stdout",
     "output_type": "stream",
     "text": [
      "Max value:  69.36\n",
      "Min value:  2.56\n"
     ]
    }
   ],
   "source": [
    "# [67] Write a Python program to find the maximum and minimum numbers \n",
    "#      from the specified decimal numbers.\n",
    "\n",
    "l1=[2.56, 4.23, 45.66, 8.12, 53.77, 6.25, 69.36, 5.85]\n",
    "print('Max value: ',max(l1))\n",
    "print('Min value: ',min(l1))"
   ]
  },
  {
   "cell_type": "code",
   "execution_count": null,
   "id": "4731113f",
   "metadata": {},
   "outputs": [],
   "source": []
  }
 ],
 "metadata": {
  "kernelspec": {
   "display_name": "Python 3 (ipykernel)",
   "language": "python",
   "name": "python3"
  },
  "language_info": {
   "codemirror_mode": {
    "name": "ipython",
    "version": 3
   },
   "file_extension": ".py",
   "mimetype": "text/x-python",
   "name": "python",
   "nbconvert_exporter": "python",
   "pygments_lexer": "ipython3",
   "version": "3.9.13"
  }
 },
 "nbformat": 4,
 "nbformat_minor": 5
}
